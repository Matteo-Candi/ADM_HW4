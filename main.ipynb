{
 "cells": [
  {
   "cell_type": "markdown",
   "metadata": {
    "pycharm": {
     "name": "#%% md\n"
    }
   },
   "source": [
    "# **Homework 4 - Getting to know your customers**\n",
    "___"
   ]
  },
  {
   "attachments": {},
   "cell_type": "markdown",
   "metadata": {
    "pycharm": {
     "name": "#%% md\n"
    }
   },
   "source": [
    "Import packages"
   ]
  },
  {
   "cell_type": "code",
   "execution_count": 1,
   "metadata": {
    "pycharm": {
     "name": "#%%\n"
    }
   },
   "outputs": [],
   "source": [
    "from sklearn.feature_extraction.text import CountVectorizer\n",
    "from matplotlib.pyplot import figure\n",
    "from collections import defaultdict\n",
    "import matplotlib.pyplot as plt \n",
    "from tqdm import tqdm\n",
    "import pandas as pd\n",
    "import numpy as np\n",
    "import pickle"
   ]
  },
  {
   "attachments": {},
   "cell_type": "markdown",
   "metadata": {
    "pycharm": {
     "name": "#%% md\n"
    }
   },
   "source": [
    "Clean the dataset"
   ]
  },
  {
   "cell_type": "code",
   "execution_count": null,
   "metadata": {
    "pycharm": {
     "name": "#%%\n"
    }
   },
   "outputs": [],
   "source": [
    "data = pd.read_csv('bank_transactions.csv')"
   ]
  },
  {
   "cell_type": "code",
   "execution_count": null,
   "metadata": {
    "pycharm": {
     "name": "#%%\n"
    }
   },
   "outputs": [],
   "source": [
    "# We use this function to convert TransactionTime in time\n",
    "def zeros(x):\n",
    "    l = len(x)\n",
    "    if l != 6:\n",
    "        x = '0' * (6-l) + x\n",
    "    return x"
   ]
  },
  {
   "cell_type": "code",
   "execution_count": null,
   "metadata": {
    "pycharm": {
     "name": "#%%\n"
    }
   },
   "outputs": [],
   "source": [
    "# We have about 7000 rows with missing values so we can just drop them\n",
    "data.dropna(inplace=True)\n",
    "\n",
    "# Convert in datetime this two columns\n",
    "data.CustomerDOB = pd.to_datetime(data.CustomerDOB)\n",
    "data.TransactionDate = pd.to_datetime(data.TransactionDate)\n",
    "\n",
    "# For TransactionTime we need to split the int in hours, minutes and seconds and convert it in datatime\n",
    "data.TransactionTime = list(map(str,data.TransactionTime))\n",
    "data.TransactionTime = list(map(zeros,data.TransactionTime))\n",
    "data.TransactionTime = pd.to_datetime(data.TransactionTime.apply(lambda x: f'{x[:2]}:{x[2:4]}:{x[4:]}'), format='%H:%M:%S').dt.time\n",
    "\n",
    "# Adjusting CustomerDOB bringing all the data after 2000 in the previous century and delating all the ones of the 1800\n",
    "data.loc[data.CustomerDOB.dt.year > 2000, 'CustomerDOB'] = data.loc[data.CustomerDOB.dt.year > 2000, 'CustomerDOB'] - pd.DateOffset(years = 100)\n",
    "data.drop(data[data.CustomerDOB.dt.year == 1800].index, axis=0, inplace=True)\n",
    "\n",
    "# Converting TransactionAmount in integer\n",
    "data['TransactionAmount (INR)'] = data['TransactionAmount (INR)'].astype(int)\n",
    "\n",
    "# Saving the new dataset in pickle format\n",
    "data.to_pickle('clear_dataset.pkl')"
   ]
  },
  {
   "attachments": {},
   "cell_type": "markdown",
   "metadata": {
    "pycharm": {
     "name": "#%% md\n"
    }
   },
   "source": [
    "___\n",
    "## **1. Finding Similar Costumers**"
   ]
  },
  {
   "attachments": {},
   "cell_type": "markdown",
   "metadata": {
    "pycharm": {
     "name": "#%% md\n"
    }
   },
   "source": [
    "### 1.1 Set up the data"
   ]
  },
  {
   "cell_type": "code",
   "execution_count": 2,
   "metadata": {
    "pycharm": {
     "name": "#%%\n"
    }
   },
   "outputs": [
    {
     "data": {
      "text/html": [
       "<div>\n",
       "<style scoped>\n",
       "    .dataframe tbody tr th:only-of-type {\n",
       "        vertical-align: middle;\n",
       "    }\n",
       "\n",
       "    .dataframe tbody tr th {\n",
       "        vertical-align: top;\n",
       "    }\n",
       "\n",
       "    .dataframe thead th {\n",
       "        text-align: right;\n",
       "    }\n",
       "</style>\n",
       "<table border=\"1\" class=\"dataframe\">\n",
       "  <thead>\n",
       "    <tr style=\"text-align: right;\">\n",
       "      <th></th>\n",
       "      <th>new_ID</th>\n",
       "      <th>TransactionID</th>\n",
       "      <th>CustomerID</th>\n",
       "      <th>CustomerDOB</th>\n",
       "      <th>CustGender</th>\n",
       "      <th>CustLocation</th>\n",
       "      <th>CustAccountBalance</th>\n",
       "      <th>TransactionDate</th>\n",
       "      <th>TransactionTime</th>\n",
       "      <th>TransactionAmount (INR)</th>\n",
       "    </tr>\n",
       "  </thead>\n",
       "  <tbody>\n",
       "    <tr>\n",
       "      <th>0</th>\n",
       "      <td>C58410531994-10-01</td>\n",
       "      <td>T1</td>\n",
       "      <td>C5841053</td>\n",
       "      <td>1994-10-01</td>\n",
       "      <td>F</td>\n",
       "      <td>JAMSHEDPUR</td>\n",
       "      <td>17819.05</td>\n",
       "      <td>2016-02-08</td>\n",
       "      <td>14:32:07</td>\n",
       "      <td>25</td>\n",
       "    </tr>\n",
       "    <tr>\n",
       "      <th>1</th>\n",
       "      <td>C21427631957-04-04</td>\n",
       "      <td>T2</td>\n",
       "      <td>C2142763</td>\n",
       "      <td>1957-04-04</td>\n",
       "      <td>M</td>\n",
       "      <td>JHAJJAR</td>\n",
       "      <td>2270.69</td>\n",
       "      <td>2016-02-08</td>\n",
       "      <td>14:18:58</td>\n",
       "      <td>27999</td>\n",
       "    </tr>\n",
       "    <tr>\n",
       "      <th>2</th>\n",
       "      <td>C44170681996-11-26</td>\n",
       "      <td>T3</td>\n",
       "      <td>C4417068</td>\n",
       "      <td>1996-11-26</td>\n",
       "      <td>F</td>\n",
       "      <td>MUMBAI</td>\n",
       "      <td>17874.44</td>\n",
       "      <td>2016-02-08</td>\n",
       "      <td>14:27:12</td>\n",
       "      <td>459</td>\n",
       "    </tr>\n",
       "    <tr>\n",
       "      <th>3</th>\n",
       "      <td>C53423801973-09-14</td>\n",
       "      <td>T4</td>\n",
       "      <td>C5342380</td>\n",
       "      <td>1973-09-14</td>\n",
       "      <td>F</td>\n",
       "      <td>MUMBAI</td>\n",
       "      <td>866503.21</td>\n",
       "      <td>2016-02-08</td>\n",
       "      <td>14:27:14</td>\n",
       "      <td>2060</td>\n",
       "    </tr>\n",
       "    <tr>\n",
       "      <th>4</th>\n",
       "      <td>C90312341988-03-24</td>\n",
       "      <td>T5</td>\n",
       "      <td>C9031234</td>\n",
       "      <td>1988-03-24</td>\n",
       "      <td>F</td>\n",
       "      <td>NAVI MUMBAI</td>\n",
       "      <td>6714.43</td>\n",
       "      <td>2016-02-08</td>\n",
       "      <td>18:11:56</td>\n",
       "      <td>1762</td>\n",
       "    </tr>\n",
       "  </tbody>\n",
       "</table>\n",
       "</div>"
      ],
      "text/plain": [
       "               new_ID TransactionID CustomerID CustomerDOB CustGender  \\\n",
       "0  C58410531994-10-01            T1   C5841053  1994-10-01          F   \n",
       "1  C21427631957-04-04            T2   C2142763  1957-04-04          M   \n",
       "2  C44170681996-11-26            T3   C4417068  1996-11-26          F   \n",
       "3  C53423801973-09-14            T4   C5342380  1973-09-14          F   \n",
       "4  C90312341988-03-24            T5   C9031234  1988-03-24          F   \n",
       "\n",
       "  CustLocation  CustAccountBalance TransactionDate TransactionTime  \\\n",
       "0   JAMSHEDPUR            17819.05      2016-02-08        14:32:07   \n",
       "1      JHAJJAR             2270.69      2016-02-08        14:18:58   \n",
       "2       MUMBAI            17874.44      2016-02-08        14:27:12   \n",
       "3       MUMBAI           866503.21      2016-02-08        14:27:14   \n",
       "4  NAVI MUMBAI             6714.43      2016-02-08        18:11:56   \n",
       "\n",
       "   TransactionAmount (INR)  \n",
       "0                       25  \n",
       "1                    27999  \n",
       "2                      459  \n",
       "3                     2060  \n",
       "4                     1762  "
      ]
     },
     "execution_count": 2,
     "metadata": {},
     "output_type": "execute_result"
    }
   ],
   "source": [
    "bank_data = pd.read_pickle('clear_dataset.pkl')\n",
    "bank_data = bank_data.reset_index(drop=True)\n",
    "\n",
    "# Cleaning dataset taking unique people (removing multiple transaction from same person).\n",
    "bank_data.insert(0, 'new_ID', (bank_data.CustomerID + list(map(str, pd.to_datetime(bank_data.CustomerDOB).dt.date))))\n",
    "\n",
    "bank_data.head()"
   ]
  },
  {
   "cell_type": "code",
   "execution_count": 3,
   "metadata": {},
   "outputs": [
    {
     "data": {
      "text/html": [
       "<div>\n",
       "<style scoped>\n",
       "    .dataframe tbody tr th:only-of-type {\n",
       "        vertical-align: middle;\n",
       "    }\n",
       "\n",
       "    .dataframe tbody tr th {\n",
       "        vertical-align: top;\n",
       "    }\n",
       "\n",
       "    .dataframe thead th {\n",
       "        text-align: right;\n",
       "    }\n",
       "</style>\n",
       "<table border=\"1\" class=\"dataframe\">\n",
       "  <thead>\n",
       "    <tr style=\"text-align: right;\">\n",
       "      <th></th>\n",
       "      <th>new_ID</th>\n",
       "      <th>CustGender</th>\n",
       "      <th>CustomerMOB</th>\n",
       "      <th>CustomerYOB</th>\n",
       "      <th>CustLocation</th>\n",
       "      <th>CustAccountBalance</th>\n",
       "      <th>TransactionAmount (INR)</th>\n",
       "    </tr>\n",
       "  </thead>\n",
       "  <tbody>\n",
       "    <tr>\n",
       "      <th>0</th>\n",
       "      <td>C58410531994-10-01</td>\n",
       "      <td>Female</td>\n",
       "      <td>October</td>\n",
       "      <td>young</td>\n",
       "      <td>JAMSHEDPUR</td>\n",
       "      <td>balance_range_3</td>\n",
       "      <td>transaction_quartile_1</td>\n",
       "    </tr>\n",
       "    <tr>\n",
       "      <th>1</th>\n",
       "      <td>C21427631957-04-04</td>\n",
       "      <td>Male</td>\n",
       "      <td>April</td>\n",
       "      <td>middle_age</td>\n",
       "      <td>JHAJJAR</td>\n",
       "      <td>balance_range_1</td>\n",
       "      <td>transaction_quartile_4</td>\n",
       "    </tr>\n",
       "    <tr>\n",
       "      <th>2</th>\n",
       "      <td>C44170681996-11-26</td>\n",
       "      <td>Female</td>\n",
       "      <td>November</td>\n",
       "      <td>young</td>\n",
       "      <td>MUMBAI</td>\n",
       "      <td>balance_range_3</td>\n",
       "      <td>transaction_quartile_3</td>\n",
       "    </tr>\n",
       "    <tr>\n",
       "      <th>3</th>\n",
       "      <td>C53423801973-09-14</td>\n",
       "      <td>Female</td>\n",
       "      <td>September</td>\n",
       "      <td>middle_age</td>\n",
       "      <td>MUMBAI</td>\n",
       "      <td>balance_range_5</td>\n",
       "      <td>transaction_quartile_4</td>\n",
       "    </tr>\n",
       "    <tr>\n",
       "      <th>4</th>\n",
       "      <td>C90312341988-03-24</td>\n",
       "      <td>Female</td>\n",
       "      <td>March</td>\n",
       "      <td>young</td>\n",
       "      <td>NAVIMUMBAI</td>\n",
       "      <td>balance_range_2</td>\n",
       "      <td>transaction_quartile_4</td>\n",
       "    </tr>\n",
       "  </tbody>\n",
       "</table>\n",
       "</div>"
      ],
      "text/plain": [
       "               new_ID CustGender CustomerMOB CustomerYOB CustLocation  \\\n",
       "0  C58410531994-10-01     Female     October       young   JAMSHEDPUR   \n",
       "1  C21427631957-04-04       Male       April  middle_age      JHAJJAR   \n",
       "2  C44170681996-11-26     Female    November       young       MUMBAI   \n",
       "3  C53423801973-09-14     Female   September  middle_age       MUMBAI   \n",
       "4  C90312341988-03-24     Female       March       young   NAVIMUMBAI   \n",
       "\n",
       "  CustAccountBalance TransactionAmount (INR)  \n",
       "0    balance_range_3  transaction_quartile_1  \n",
       "1    balance_range_1  transaction_quartile_4  \n",
       "2    balance_range_3  transaction_quartile_3  \n",
       "3    balance_range_5  transaction_quartile_4  \n",
       "4    balance_range_2  transaction_quartile_4  "
      ]
     },
     "execution_count": 3,
     "metadata": {},
     "output_type": "execute_result"
    }
   ],
   "source": [
    "# Choosing selected column to find similarity between customer for Locality Sensitive Hashing (LSH).\n",
    "hash_bank_data = bank_data[['new_ID', 'CustGender', 'CustomerDOB', 'CustLocation', 'CustAccountBalance', 'TransactionAmount (INR)']]\n",
    "hash_bank_data = hash_bank_data.rename({'CustomerDOB': 'CustomerMOB'}, axis=1)\n",
    "hash_bank_data.insert(3, 'CustomerYOB', list(map(str, hash_bank_data.CustomerMOB.dt.year)))          # Insert Year Of Birthday.\n",
    "hash_bank_data.CustomerMOB = hash_bank_data.CustomerMOB.dt.month_name()                              # Insert Month Of Birthday.\n",
    "hash_bank_data.CustGender = ['Male' if i =='M' else 'Female' for i in hash_bank_data.CustGender]     # Convert gender to Male and Female.\n",
    "hash_bank_data.CustLocation = hash_bank_data.CustLocation.apply(lambda x: ''.join(x.split()))        # Convert in one word the locations.\n",
    "\n",
    "# Convert CustomerYOB in classes of age (min_age, 35, 70, max_age) as (young, middle_age, old)\n",
    "ages = 2016 - np.array(list(map(int, hash_bank_data.CustomerYOB)))\n",
    "bins = [min(ages), 35, 70, max(ages)]\n",
    "labels = ['young', 'middle_age', 'old']\n",
    "hash_bank_data.CustomerYOB = list(map(str, pd.cut(ages, bins, labels=labels, ordered=False)))\n",
    "\n",
    "# Convert CustAccountBalance in ranges (quantiles .2, .4, .6, .8).\n",
    "bins = list(map(int, hash_bank_data.CustAccountBalance.quantile([0, .2, .4, .6, .8, 1])))\n",
    "hash_bank_data.CustAccountBalance = list(map(str, pd.cut(hash_bank_data.CustAccountBalance, bins,\n",
    "     labels=[f'balance_range_{i}' for i in range(1, len(bins))], ordered=False)))\n",
    "\n",
    "# Convert TransactionAmount (INR) in ranges (quartiles).\n",
    "bins = list(map(int, hash_bank_data['TransactionAmount (INR)'].quantile([0, .25, .5, .75, 1])))\n",
    "hash_bank_data['TransactionAmount (INR)'] = list(map(str, pd.cut(hash_bank_data['TransactionAmount (INR)'], bins,\n",
    "     labels=[f'transaction_quartile_{i}' for i in range(1, len(bins))], ordered=False)))\n",
    "\n",
    "# We now just want to identify unique clients.\n",
    "# Removing those that have done more than one transaction (same person not Customer).\n",
    "hash_bank_data = hash_bank_data.drop_duplicates(subset = ['new_ID'], keep = 'last').reset_index(drop = True)\n",
    "\n",
    "# Saving dataset for apply LSH.\n",
    "hash_bank_data.to_pickle('LSH_bank_transaction.pkl')\n",
    "\n",
    "hash_bank_data.head()"
   ]
  },
  {
   "attachments": {},
   "cell_type": "markdown",
   "metadata": {},
   "source": [
    "As features to create shingles for minhash we consider this 6 variables above: the gender converted in male and female, the month of birth, year of birth, location transaction, account balance converted in 5 intervals divided by quantiles [.2, .4, .6, .8] and the transaction divided in four group by the three quartile. The set of the words inside this new dataset will be the rows of our initial binary sparse matrix that we named **shingle_mat**."
   ]
  },
  {
   "attachments": {},
   "cell_type": "markdown",
   "metadata": {
    "pycharm": {
     "name": "#%% md\n"
    }
   },
   "source": [
    "### 1.2 Fingerprint hashing"
   ]
  },
  {
   "cell_type": "code",
   "execution_count": 4,
   "metadata": {
    "pycharm": {
     "name": "#%%\n"
    }
   },
   "outputs": [],
   "source": [
    "LSH_data = pd.read_pickle('LSH_bank_transaction.pkl')\n",
    "\n",
    "LSH_final = LSH_data[['CustGender', 'CustomerMOB', 'CustomerYOB', 'CustLocation', 'CustAccountBalance', 'TransactionAmount (INR)']]\n",
    "ids = list(LSH_data.new_ID)\n",
    "rows = LSH_final.apply(lambda x: ' '.join(x.values), axis=1)\n",
    "\n",
    "vec = CountVectorizer()                                                    \n",
    "shingle_mat = vec.fit_transform(rows).tocsr().transpose()"
   ]
  },
  {
   "cell_type": "code",
   "execution_count": 5,
   "metadata": {},
   "outputs": [],
   "source": [
    "# Return the signature matrix given shingles matrix and a number of permutations.\n",
    "def signature_matrix(shingle_mat, n_perm):\n",
    "    sign_mat = np.empty([n_perm, shingle_mat.shape[1]], dtype='int')\n",
    "\n",
    "    for i in tqdm(range(n_perm)):\n",
    "        # Set a seed to have same permutations in query matrix.\n",
    "        np.random.seed(10+i)    \n",
    "\n",
    "        perm = np.random.permutation(range(0, shingle_mat.shape[0]))\n",
    "        perm_mat = shingle_mat[perm]\n",
    "        sign_mat[i] = perm_mat.argmax(axis=0)\n",
    "    \n",
    "    return sign_mat\n",
    "\n",
    "\n",
    "# Return a dictionary with buckets that contain similar objects.\n",
    "def buckets(mat):\n",
    "    dic = defaultdict(list)\n",
    "\n",
    "    for i,item in enumerate(mat):\n",
    "        dic[str(item)].append(i)\n",
    "        \n",
    "    return dic\n",
    "\n",
    "\n",
    "# Return all the buckets for all the bands.\n",
    "def LSH_function(sign_mat, b):\n",
    "    all_buckets = []\n",
    "    i = 0\n",
    "    r = int(sign_mat.shape[0] / b)\n",
    "\n",
    "    for _ in tqdm(range(b)):\n",
    "        band = sign_mat[i:(i+r)]\n",
    "        i += r\n",
    "        all_buckets.append(buckets(band.T))\n",
    "\n",
    "    return all_buckets"
   ]
  },
  {
   "attachments": {},
   "cell_type": "markdown",
   "metadata": {},
   "source": [
    "From the **shingles_mat** we create 4 different signature matrixes (**sign_mat**) with 100 permutations each and apply the *LSH* with four different bands *[5, 10, 20, 25]* that implies for each band these numbers of rows *[20, 10, 5, 4]* $ (\\frac{perm}{bands}=rows) $. The next step is compare the results that we get for each combination of bands and rows and choose the best for our analysis."
   ]
  },
  {
   "cell_type": "code",
   "execution_count": null,
   "metadata": {},
   "outputs": [],
   "source": [
    "# Here we create the signature matrix and try LSH_function for different values of the band. \n",
    "\n",
    "# Create the signature matrix and save it.\n",
    "sign_mat = signature_matrix(shingle_mat, n_perm=100)\n",
    "np.save('signature_matrix.npy', sign_mat)\n",
    "sign_mat = np.load('signature_matrix.npy')\n",
    "\n",
    "# Computing the LSH function on different values of band: [5, 10, 20, 25].\n",
    "all_buckets = LSH_function(sign_mat, b=5)\n",
    "pickle.dump(all_buckets, open('buckets_band5.pkl', 'wb'))\n",
    "all_buckets = LSH_function(sign_mat, b=10)\n",
    "pickle.dump(all_buckets, open('buckets_band10.pkl', 'wb'))\n",
    "all_buckets = LSH_function(sign_mat, b=20)\n",
    "pickle.dump(all_buckets, open('buckets_band20.pkl', 'wb'))\n",
    "all_buckets = LSH_function(sign_mat, b=25)\n",
    "pickle.dump(all_buckets, open('buckets_band25.pkl', 'wb'))"
   ]
  },
  {
   "attachments": {},
   "cell_type": "markdown",
   "metadata": {},
   "source": [
    "To find the similarity between two customers we use the **Jaccard Similarity** defined as $$ J(A,B) = \\frac{|A \\cap B|}{|A \\cup B|} $$\n",
    "The values that this measure can assume, given that we are working with 6 features, are the following:"
   ]
  },
  {
   "cell_type": "code",
   "execution_count": 6,
   "metadata": {},
   "outputs": [
    {
     "data": {
      "image/png": "[encoded data removed]",
      "text/plain": [
       "<Figure size 640x480 with 1 Axes>"
      ]
     },
     "metadata": {},
     "output_type": "display_data"
    }
   ],
   "source": [
    "tot = 6\n",
    "num = [0, 1, 2, 3, 4, 5, 6]\n",
    "jaccard = [round(el/(tot + (tot-i)), 2) for i,el in enumerate(num)]\n",
    "\n",
    "plt.plot(num, jaccard, 'r^')\n",
    "plt.title('Jaccard similarity given number of similar features')\n",
    "plt.xlabel('Numerosity of features intersection')\n",
    "plt.ylabel('Jaccard similarity')\n",
    "plt.yticks(jaccard, jaccard)\n",
    "plt.show()"
   ]
  },
  {
   "attachments": {},
   "cell_type": "markdown",
   "metadata": {},
   "source": [
    "Now we know that the probability that a pair of customer being identified as similar given a similarity score is \n",
    "$$\n",
    "    p = 1- (1-s^r)^b\n",
    "$$\n",
    "where **s** is the true similarity (*Jaccard Similarity*), **b** is the number of bands and **r** the number of rows inside each band.\n",
    "In our case we have the following results taken ``100`` different *permutations*:"
   ]
  },
  {
   "cell_type": "code",
   "execution_count": 7,
   "metadata": {},
   "outputs": [
    {
     "data": {
      "image/png": "[encoded data removed]",
      "text/plain": [
       "<Figure size 1200x480 with 2 Axes>"
      ]
     },
     "metadata": {},
     "output_type": "display_data"
    }
   ],
   "source": [
    "figure(figsize=(10, 4), dpi=120)\n",
    "\n",
    "# First graph: Averege number of buckets for each band.\n",
    "bands = [5, 10, 20, 25]\n",
    "means = {}\n",
    "for el in bands:\n",
    "    all_buckets = pickle.load(open(f'buckets_band{el}.pkl', 'rb'))\n",
    "    n_bucks = [len(all_buckets[i]) for i in range(el)]\n",
    "    means[el] = np.mean(n_bucks)\n",
    "\n",
    "plt.subplot(1, 2 ,1)\n",
    "plt.plot(range(len(bands)), means.values(), 'o-r')\n",
    "plt.title('Averege number of buckets for each band')\n",
    "plt.xlabel('Bands')\n",
    "plt.ylabel('Averege Buckets')\n",
    "plt.xticks(range(len(bands)), bands)\n",
    "\n",
    "\n",
    "# Second graph: Comparison with different b and r.\n",
    "def prob_sim(l, b, r):\n",
    "    return [1-(1-(i)**r)**b for i in l]\n",
    "\n",
    "seq = np.arange(0,1.01,.01)\n",
    "br = [(5, 20), (10, 10), (20, 5), (25, 4)]\n",
    "\n",
    "plt.subplot(1, 2 ,2)\n",
    "for el in br:\n",
    "    plt.plot(seq, prob_sim(seq, el[0], el[1]), label=f'b={el[0]}, r={el[1]}')\n",
    "plt.axhline(y=0.5, color='black', linestyle='--', linewidth=.7)\n",
    "plt.axvline(x=0.5, color='black', linestyle='--', linewidth=.4)\n",
    "plt.title('Comparison with different b and r')\n",
    "plt.xlabel('True similarity (s)')\n",
    "plt.ylabel('Probability (p)')\n",
    "plt.legend()\n",
    "plt.show()"
   ]
  },
  {
   "attachments": {},
   "cell_type": "markdown",
   "metadata": {},
   "source": [
    "These graphs tell us that if we use a low number of bands, and therefore an high value for the number of rows, we get an high probability to find a similarity between two units only if their true similarity is really high (**blue curve**); in fact as we can see from the first chart when we pick a low number of bands we have a lot of different buckets: is less likely that two units end up insiede the same bucket if they have a low true similarity. Otherwise we have opposite results considering an high number of bands and a low number of rows (**red curve**: the probability to have two units in the same bucket is 50% if their true similarity score is around 0.4).\n",
    "\n",
    "<u>Our decision</u> should consider the similarity that we want to have among the units of our data: we use 6 variables of our initial dataset and we decide to group with an high probability people that have at least *4 similar features*. Given that we calculate the Jaccard Similarity for that case, we have $ \\frac{4}{6 + 2}=0.5 $ (as we can see also in the previous graph). So the choice that we make is to take the `number of bands equal to 20` and `number of rows equal to 5` (green curve) thanks to which we have a probability of 50% (vertical line in second chart) to group together two customers that have 4 similar features and greater if they have more than 4."
   ]
  },
  {
   "attachments": {},
   "cell_type": "markdown",
   "metadata": {
    "pycharm": {
     "name": "#%% md\n"
    }
   },
   "source": [
    "### 1.3 Locality Sensitive Hashing"
   ]
  },
  {
   "cell_type": "markdown",
   "metadata": {
    "pycharm": {
     "name": "#%%\n"
    }
   },
   "source": [
    "Before use the new dataset as query we need to clear that and give that the same shape and characteristics of our dataset **LSH_final**."
   ]
  },
  {
   "cell_type": "code",
   "execution_count": 9,
   "metadata": {},
   "outputs": [
    {
     "data": {
      "text/html": [
       "<div>\n",
       "<style scoped>\n",
       "    .dataframe tbody tr th:only-of-type {\n",
       "        vertical-align: middle;\n",
       "    }\n",
       "\n",
       "    .dataframe tbody tr th {\n",
       "        vertical-align: top;\n",
       "    }\n",
       "\n",
       "    .dataframe thead th {\n",
       "        text-align: right;\n",
       "    }\n",
       "</style>\n",
       "<table border=\"1\" class=\"dataframe\">\n",
       "  <thead>\n",
       "    <tr style=\"text-align: right;\">\n",
       "      <th></th>\n",
       "      <th>CustomerMOB</th>\n",
       "      <th>CustGender</th>\n",
       "      <th>CustLocation</th>\n",
       "      <th>CustomerYOB</th>\n",
       "      <th>CustAccountBalance</th>\n",
       "      <th>TransactionAmount (INR)</th>\n",
       "    </tr>\n",
       "  </thead>\n",
       "  <tbody>\n",
       "    <tr>\n",
       "      <th>0</th>\n",
       "      <td>July</td>\n",
       "      <td>Male</td>\n",
       "      <td>DELHI</td>\n",
       "      <td>middle_age</td>\n",
       "      <td>balance_range_4</td>\n",
       "      <td>transaction_quartile_1</td>\n",
       "    </tr>\n",
       "    <tr>\n",
       "      <th>1</th>\n",
       "      <td>June</td>\n",
       "      <td>Male</td>\n",
       "      <td>PANCHKULA</td>\n",
       "      <td>young</td>\n",
       "      <td>balance_range_2</td>\n",
       "      <td>transaction_quartile_4</td>\n",
       "    </tr>\n",
       "    <tr>\n",
       "      <th>2</th>\n",
       "      <td>August</td>\n",
       "      <td>Male</td>\n",
       "      <td>PATNA</td>\n",
       "      <td>young</td>\n",
       "      <td>balance_range_2</td>\n",
       "      <td>transaction_quartile_3</td>\n",
       "    </tr>\n",
       "    <tr>\n",
       "      <th>3</th>\n",
       "      <td>March</td>\n",
       "      <td>Male</td>\n",
       "      <td>CHENNAI</td>\n",
       "      <td>young</td>\n",
       "      <td>balance_range_4</td>\n",
       "      <td>transaction_quartile_3</td>\n",
       "    </tr>\n",
       "    <tr>\n",
       "      <th>4</th>\n",
       "      <td>April</td>\n",
       "      <td>Male</td>\n",
       "      <td>GURGAON</td>\n",
       "      <td>young</td>\n",
       "      <td>balance_range_4</td>\n",
       "      <td>transaction_quartile_1</td>\n",
       "    </tr>\n",
       "  </tbody>\n",
       "</table>\n",
       "</div>"
      ],
      "text/plain": [
       "  CustomerMOB CustGender CustLocation CustomerYOB CustAccountBalance  \\\n",
       "0        July       Male        DELHI  middle_age    balance_range_4   \n",
       "1        June       Male    PANCHKULA       young    balance_range_2   \n",
       "2      August       Male        PATNA       young    balance_range_2   \n",
       "3       March       Male      CHENNAI       young    balance_range_4   \n",
       "4       April       Male      GURGAON       young    balance_range_4   \n",
       "\n",
       "  TransactionAmount (INR)  \n",
       "0  transaction_quartile_1  \n",
       "1  transaction_quartile_4  \n",
       "2  transaction_quartile_3  \n",
       "3  transaction_quartile_3  \n",
       "4  transaction_quartile_1  "
      ]
     },
     "execution_count": 9,
     "metadata": {},
     "output_type": "execute_result"
    }
   ],
   "source": [
    "# Clear the query dataset as the previous one.\n",
    "query = pd.read_csv('query_users.csv')\n",
    "query.dropna(inplace=True)\n",
    "query.CustomerDOB = pd.to_datetime(query.CustomerDOB)\n",
    "query = query.drop(['TransactionDate', 'TransactionTime'], axis=1)\n",
    "query.loc[query.CustomerDOB.dt.year > 2000, 'CustomerDOB'] = query.loc[query.CustomerDOB.dt.year > 2000, 'CustomerDOB'] - pd.DateOffset(years = 100)\n",
    "query.drop(query[query.CustomerDOB.dt.year == 1800].index, axis=0, inplace=True)\n",
    "query['TransactionAmount (INR)'] = query['TransactionAmount (INR)'].astype(int)\n",
    "query.CustLocation = query.CustLocation.apply(lambda x: ''.join(x.split())) \n",
    "\n",
    "# Reshape the features to be comparable to our dataset (same steps done for the dataset).\n",
    "query.insert(3, 'CustomerYOB', list(map(str, query.CustomerDOB.dt.year))) \n",
    "ages = 2016 - np.array(list(map(int, query.CustomerYOB)))\n",
    "bins = [16, 35, 70, 115]\n",
    "labels = ['young', 'middle_age', 'old']\n",
    "query.CustomerYOB = list(map(str, pd.cut(ages, bins, labels=labels, ordered=False)))\n",
    "bins = list(map(int, query.CustAccountBalance.quantile([0, .2, .4, .6, .8, 1])))\n",
    "query.CustAccountBalance = list(map(str, pd.cut(query.CustAccountBalance, bins,\n",
    "     labels=[f'balance_range_{i}' for i in range(1, len(bins))], ordered=False)))\n",
    "bins = list(map(int, query['TransactionAmount (INR)'].quantile([0, .25, .5, .75, 1])))\n",
    "query['TransactionAmount (INR)'] = list(map(str, pd.cut(query['TransactionAmount (INR)'], bins,\n",
    "     labels=[f'transaction_quartile_{i}' for i in range(1, len(bins))], ordered=False)))\n",
    "query = query.rename({'CustomerDOB': 'CustomerMOB'}, axis=1)\n",
    "query.CustomerMOB = query.CustomerMOB.dt.month_name() \n",
    "query.CustGender = ['Male' if i =='M' else 'Female' for i in query.CustGender]  \n",
    "query.reset_index(inplace=True, drop=True)\n",
    "\n",
    "query.head()"
   ]
  },
  {
   "cell_type": "code",
   "execution_count": null,
   "metadata": {},
   "outputs": [],
   "source": [
    "# Find the binary sparse matrix with the same vocabulary of the shingles matrix.\n",
    "query_rows = query.apply(lambda x: ' '.join(x.values), axis=1)\n",
    "query_shingle_mat = vec.transform(query_rows).tocsr().transpose()\n",
    "\n",
    "# Create the signature matrix for the query.\n",
    "query_sign_mat = signature_matrix(query_shingle_mat, n_perm=100)\n",
    "\n",
    "all_buckets = pickle.load(open('buckets_band20.pkl', 'rb'))\n",
    "\n",
    "# Find for each query customers all the dataset customers that match in at least one band.\n",
    "n_band = 20\n",
    "query_similarity = defaultdict(list)\n",
    "r = int(query_sign_mat.shape[0] / n_band)\n",
    "for cust in range(query_sign_mat.shape[1]):\n",
    "    i = 0\n",
    "    col = query_sign_mat[:, cust]\n",
    "    for band in range(n_band):\n",
    "        col_band = col[i:i+r]\n",
    "        i += r\n",
    "        query_similarity[cust].append(all_buckets[band][str(col_band)])\n",
    "\n",
    "for pos in range(len(query_similarity)):\n",
    "    query_similarity[pos] = set([item for sublist in query_similarity[pos] for item in sublist])\n",
    "\n",
    "\n",
    "# Get the query customer who is more similar to the highest number of users.\n",
    "query_len_similarity = {k: len(v) for k, v in query_similarity.items()}\n",
    "query_len_similarity_sorted = {k: v for k, v in sorted(query_len_similarity.items(), key=lambda item: item[1], reverse=True)}"
   ]
  },
  {
   "attachments": {},
   "cell_type": "markdown",
   "metadata": {},
   "source": [
    "We take as measure to similarity of the query's customers with the dataset the number of match insiede the set of all the buckets in which they fall. A query's customers falls into a bucket with a probability of 50% if share with the other customers of the bucket four features or almost surely if they share five or all six features. This is given by the fact that we have choose a number of band equal to 20 and so we are grouping customers if 5 rows inside each band are the same. So, in this way, we know how many customers of the dataset are similar to the query's one with an high probability given an high *Jaccard similarity* and a probability close to zero if the common features are less than four.\n",
    "\n",
    "We return the top k most similar query's customer with their values: the score is the just the proportion of customers to which they are similar in all the dataset."
   ]
  },
  {
   "cell_type": "code",
   "execution_count": 11,
   "metadata": {},
   "outputs": [
    {
     "data": {
      "text/html": [
       "<div>\n",
       "<style scoped>\n",
       "    .dataframe tbody tr th:only-of-type {\n",
       "        vertical-align: middle;\n",
       "    }\n",
       "\n",
       "    .dataframe tbody tr th {\n",
       "        vertical-align: top;\n",
       "    }\n",
       "\n",
       "    .dataframe thead th {\n",
       "        text-align: right;\n",
       "    }\n",
       "</style>\n",
       "<table border=\"1\" class=\"dataframe\">\n",
       "  <thead>\n",
       "    <tr style=\"text-align: right;\">\n",
       "      <th></th>\n",
       "      <th>CustomerMOB</th>\n",
       "      <th>CustGender</th>\n",
       "      <th>CustLocation</th>\n",
       "      <th>CustomerYOB</th>\n",
       "      <th>CustAccountBalance</th>\n",
       "      <th>TransactionAmount (INR)</th>\n",
       "      <th>Values (%)</th>\n",
       "    </tr>\n",
       "  </thead>\n",
       "  <tbody>\n",
       "    <tr>\n",
       "      <th>1</th>\n",
       "      <td>June</td>\n",
       "      <td>Male</td>\n",
       "      <td>PANCHKULA</td>\n",
       "      <td>young</td>\n",
       "      <td>balance_range_2</td>\n",
       "      <td>transaction_quartile_4</td>\n",
       "      <td>17.00</td>\n",
       "    </tr>\n",
       "    <tr>\n",
       "      <th>34</th>\n",
       "      <td>May</td>\n",
       "      <td>Male</td>\n",
       "      <td>NEWDELHI</td>\n",
       "      <td>young</td>\n",
       "      <td>balance_range_2</td>\n",
       "      <td>transaction_quartile_4</td>\n",
       "      <td>16.75</td>\n",
       "    </tr>\n",
       "    <tr>\n",
       "      <th>11</th>\n",
       "      <td>August</td>\n",
       "      <td>Male</td>\n",
       "      <td>BANGALORE</td>\n",
       "      <td>young</td>\n",
       "      <td>balance_range_1</td>\n",
       "      <td>transaction_quartile_4</td>\n",
       "      <td>13.42</td>\n",
       "    </tr>\n",
       "    <tr>\n",
       "      <th>32</th>\n",
       "      <td>June</td>\n",
       "      <td>Male</td>\n",
       "      <td>NEWDELHI</td>\n",
       "      <td>young</td>\n",
       "      <td>balance_range_5</td>\n",
       "      <td>transaction_quartile_4</td>\n",
       "      <td>12.25</td>\n",
       "    </tr>\n",
       "    <tr>\n",
       "      <th>2</th>\n",
       "      <td>August</td>\n",
       "      <td>Male</td>\n",
       "      <td>PATNA</td>\n",
       "      <td>young</td>\n",
       "      <td>balance_range_2</td>\n",
       "      <td>transaction_quartile_3</td>\n",
       "      <td>12.01</td>\n",
       "    </tr>\n",
       "    <tr>\n",
       "      <th>35</th>\n",
       "      <td>January</td>\n",
       "      <td>Male</td>\n",
       "      <td>HYDERABAD</td>\n",
       "      <td>young</td>\n",
       "      <td>balance_range_2</td>\n",
       "      <td>transaction_quartile_1</td>\n",
       "      <td>11.80</td>\n",
       "    </tr>\n",
       "    <tr>\n",
       "      <th>26</th>\n",
       "      <td>February</td>\n",
       "      <td>Male</td>\n",
       "      <td>HYDERABAD</td>\n",
       "      <td>young</td>\n",
       "      <td>balance_range_2</td>\n",
       "      <td>transaction_quartile_2</td>\n",
       "      <td>10.91</td>\n",
       "    </tr>\n",
       "    <tr>\n",
       "      <th>45</th>\n",
       "      <td>May</td>\n",
       "      <td>Male</td>\n",
       "      <td>DELHI</td>\n",
       "      <td>young</td>\n",
       "      <td>balance_range_2</td>\n",
       "      <td>transaction_quartile_2</td>\n",
       "      <td>10.66</td>\n",
       "    </tr>\n",
       "    <tr>\n",
       "      <th>24</th>\n",
       "      <td>January</td>\n",
       "      <td>Male</td>\n",
       "      <td>VADODARA</td>\n",
       "      <td>young</td>\n",
       "      <td>balance_range_4</td>\n",
       "      <td>transaction_quartile_3</td>\n",
       "      <td>8.20</td>\n",
       "    </tr>\n",
       "    <tr>\n",
       "      <th>27</th>\n",
       "      <td>October</td>\n",
       "      <td>Male</td>\n",
       "      <td>AURANGABAD</td>\n",
       "      <td>young</td>\n",
       "      <td>balance_range_5</td>\n",
       "      <td>transaction_quartile_3</td>\n",
       "      <td>8.07</td>\n",
       "    </tr>\n",
       "  </tbody>\n",
       "</table>\n",
       "</div>"
      ],
      "text/plain": [
       "   CustomerMOB CustGender CustLocation CustomerYOB CustAccountBalance  \\\n",
       "1         June       Male    PANCHKULA       young    balance_range_2   \n",
       "34         May       Male     NEWDELHI       young    balance_range_2   \n",
       "11      August       Male    BANGALORE       young    balance_range_1   \n",
       "32        June       Male     NEWDELHI       young    balance_range_5   \n",
       "2       August       Male        PATNA       young    balance_range_2   \n",
       "35     January       Male    HYDERABAD       young    balance_range_2   \n",
       "26    February       Male    HYDERABAD       young    balance_range_2   \n",
       "45         May       Male        DELHI       young    balance_range_2   \n",
       "24     January       Male     VADODARA       young    balance_range_4   \n",
       "27     October       Male   AURANGABAD       young    balance_range_5   \n",
       "\n",
       "   TransactionAmount (INR)  Values (%)  \n",
       "1   transaction_quartile_4       17.00  \n",
       "34  transaction_quartile_4       16.75  \n",
       "11  transaction_quartile_4       13.42  \n",
       "32  transaction_quartile_4       12.25  \n",
       "2   transaction_quartile_3       12.01  \n",
       "35  transaction_quartile_1       11.80  \n",
       "26  transaction_quartile_2       10.91  \n",
       "45  transaction_quartile_2       10.66  \n",
       "24  transaction_quartile_3        8.20  \n",
       "27  transaction_quartile_3        8.07  "
      ]
     },
     "execution_count": 11,
     "metadata": {},
     "output_type": "execute_result"
    }
   ],
   "source": [
    "k = 10\n",
    "top_most_similar_customer = dict(list(query_len_similarity_sorted.items())[0:10])\n",
    "final_result = query.loc[list(top_most_similar_customer.keys())]\n",
    "final_result['Values (%)'] = np.round(np.array(list(top_most_similar_customer.values())) / LSH_data.shape[0], decimals = 4) * 100\n",
    "final_result"
   ]
  },
  {
   "attachments": {},
   "cell_type": "markdown",
   "metadata": {},
   "source": [
    "In this way we know which customers of our dataset are similar to a given new customers and use the informations that we already had to propose to the new user things that may be of interest to him based on customers who have similar characteristics. "
   ]
  },
  {
   "attachments": {},
   "cell_type": "markdown",
   "metadata": {},
   "source": [
    "#### <u>*Comment*</u>\n",
    "Our method work in a way that let us now all the similar customers that we have in the dataset that are similar (at least 4 features on 6) to a new customers. In such a way we can group this new customers with all the others that are similar to him to advise himn based on our knowledge of his similar and, in a certain way, \"know\" him and the actions he might take.\n",
    "\n",
    "Our method is quite fast because we suppose to have some storage data that allow us to have immediate results when we insert a new customers. To create the **signature matrix** we take about 10 minutes and to group the customers inisede all the **buckets** around 13 minutes. But once we have done this we can, has we previously said, storage this informations and use them to have istant result."
   ]
  },
  {
   "attachments": {},
   "cell_type": "markdown",
   "metadata": {
    "pycharm": {
     "name": "#%% md\n"
    }
   },
   "source": [
    "___\n",
    "## **2. Grouping customers together!**"
   ]
  },
  {
   "cell_type": "markdown",
   "metadata": {
    "pycharm": {
     "name": "#%% md\n"
    }
   },
   "source": [
    "#### 2.1 Getting your data + feature engineering"
   ]
  },
  {
   "cell_type": "code",
   "execution_count": null,
   "metadata": {
    "pycharm": {
     "name": "#%%\n"
    }
   },
   "outputs": [],
   "source": []
  },
  {
   "cell_type": "markdown",
   "metadata": {
    "pycharm": {
     "name": "#%% md\n"
    }
   },
   "source": [
    "#### 2.2 Choose your features (variables)!"
   ]
  },
  {
   "cell_type": "code",
   "execution_count": null,
   "metadata": {
    "pycharm": {
     "name": "#%%\n"
    }
   },
   "outputs": [],
   "source": []
  },
  {
   "cell_type": "markdown",
   "metadata": {
    "pycharm": {
     "name": "#%% md\n"
    }
   },
   "source": [
    "#### 2.3 Clustering!"
   ]
  },
  {
   "cell_type": "code",
   "execution_count": null,
   "metadata": {
    "pycharm": {
     "name": "#%%\n"
    }
   },
   "outputs": [],
   "source": []
  },
  {
   "cell_type": "markdown",
   "metadata": {
    "pycharm": {
     "name": "#%% md\n"
    }
   },
   "source": [
    "#### 2.4 Analysing your results!"
   ]
  },
  {
   "cell_type": "code",
   "execution_count": null,
   "metadata": {
    "pycharm": {
     "name": "#%%\n"
    }
   },
   "outputs": [],
   "source": []
  },
  {
   "attachments": {},
   "cell_type": "markdown",
   "metadata": {
    "pycharm": {
     "name": "#%% md\n"
    }
   },
   "source": [
    "___\n",
    "## **Bonus**"
   ]
  },
  {
   "cell_type": "code",
   "execution_count": null,
   "metadata": {
    "pycharm": {
     "name": "#%%\n"
    }
   },
   "outputs": [],
   "source": []
  },
  {
   "attachments": {},
   "cell_type": "markdown",
   "metadata": {
    "pycharm": {
     "name": "#%% md\n"
    }
   },
   "source": [
    "___\n",
    "## **Command Line Question** "
   ]
  },
  {
   "attachments": {},
   "cell_type": "markdown",
   "metadata": {},
   "source": [
    "Check the result that we have from the command line."
   ]
  },
  {
   "cell_type": "code",
   "execution_count": 2,
   "metadata": {
    "pycharm": {
     "name": "#%%\n"
    }
   },
   "outputs": [
    {
     "data": {
      "text/plain": [
       "CustLocation\n",
       "MUMBAI    103595\n",
       "Name: TransactionID, dtype: int64"
      ]
     },
     "execution_count": 2,
     "metadata": {},
     "output_type": "execute_result"
    }
   ],
   "source": [
    "df = pd.read_csv('bank_transactions.csv')\n",
    "\n",
    "# 1.Which location has the maximum number of purchases been made?\n",
    "df.groupby('CustLocation').count().TransactionID.sort_values(ascending=False).head(1)"
   ]
  },
  {
   "cell_type": "code",
   "execution_count": 3,
   "metadata": {},
   "outputs": [
    {
     "data": {
      "text/plain": [
       "CustGender\n",
       "F    1655.733753\n",
       "M    1543.564378\n",
       "Name: TransactionAmount (INR), dtype: float64"
      ]
     },
     "execution_count": 3,
     "metadata": {},
     "output_type": "execute_result"
    }
   ],
   "source": [
    "# 2.In the dataset provided, did females spend more than males, or vice versa?\n",
    "df.groupby('CustGender')['TransactionAmount (INR)'].mean()[0:2]"
   ]
  },
  {
   "cell_type": "code",
   "execution_count": 4,
   "metadata": {},
   "outputs": [
    {
     "data": {
      "text/plain": [
       "CustomerID\n",
       "C7319271    1560034.99\n",
       "Name: TransactionAmount (INR), dtype: float64"
      ]
     },
     "execution_count": 4,
     "metadata": {},
     "output_type": "execute_result"
    }
   ],
   "source": [
    "# 3.Report the customer with the highest average transaction amount in the dataset.\n",
    "df.groupby('CustomerID')['TransactionAmount (INR)'].mean().sort_values(ascending=False).head(1)"
   ]
  },
  {
   "attachments": {},
   "cell_type": "markdown",
   "metadata": {
    "pycharm": {
     "name": "#%% md\n"
    }
   },
   "source": [
    "___\n",
    "## **Algorithmic Question**"
   ]
  },
  {
   "cell_type": "code",
   "execution_count": 1,
   "metadata": {
    "pycharm": {
     "name": "#%%\n"
    }
   },
   "outputs": [],
   "source": [
    "import numpy as np\n",
    "\n",
    "class BColors:\n",
    "    WARNING = '\\033[93m\\n[Warning]: '\n",
    "    ERROR = '\\033[91m\\n[Error]: '\n",
    "    ENDC = '\\033[0m'"
   ]
  },
  {
   "cell_type": "code",
   "execution_count": 4,
   "metadata": {
    "pycharm": {
     "name": "#%%\n"
    }
   },
   "outputs": [],
   "source": [
    "# A function that returns if the given inputs meet the rules of the problem or not.\n",
    "def flowcheck(entrances, guards, studentsGate):\n",
    "    # Having an array with the same size of the entrances which turns 1 for each door if open and 0 otherwise.\n",
    "    entranceState = np.zeros(entrances)\n",
    "    # A flag variable is defined to be raised in case of a change in the gates\n",
    "    flag = 0\n",
    "\n",
    "    for i, j in enumerate(studentsGate):\n",
    "        # Open the gate\n",
    "        entranceState[j-1] = 1\n",
    "        # Check if this gate is the same as the previous one\n",
    "        if flag != j:\n",
    "            # Check if the number of guards is greater than the number of opened doors.\n",
    "            if np.sum(entranceState) > guards:\n",
    "                return \"\\nNO\"\n",
    "            # If not, change the flag\n",
    "            flag = j\n",
    "\n",
    "        # Check if this door will be used in the future. If not, close the door and release the guard.\n",
    "        if j not in studentsGate[i+1:]:\n",
    "            entranceState[j - 1] = 0\n",
    "\n",
    "    return \"\\nYES\""
   ]
  },
  {
   "cell_type": "code",
   "execution_count": 5,
   "metadata": {
    "pycharm": {
     "name": "#%%\n"
    }
   },
   "outputs": [
    {
     "name": "stdout",
     "output_type": "stream",
     "text": [
      "\n",
      "Parameters:\n",
      "3 6 2\n",
      "\n",
      "Enter each students' gate:\n",
      "1 2 2 3 2 1\n",
      "\n",
      "NO\n"
     ]
    }
   ],
   "source": [
    "# Below we can enter the parameters to test the algorithm. Some input control mechanisms are implemented.\n",
    "for i in range(1):\n",
    "    try:\n",
    "        entrances, students, guards = [int(i) for i in input(\"\\nParameters:\\n\").split()]\n",
    "    except:\n",
    "        print(f\"{BColors.ERROR}The input parameters must be space seperated positive integers.\"\n",
    "              f\"\\nPlease try again.{BColors.ENDC}\")\n",
    "        continue\n",
    "\n",
    "    try:\n",
    "        studentsGate = [int(i) for i in input(\"\\nEnter each students' gate:\\n\").split(\" \")]\n",
    "    except:\n",
    "        print(f\"{BColors.ERROR}Students' gates must be written in an array of integers.\"\n",
    "              f\"\\nPlease try again.{BColors.ENDC}\")\n",
    "        continue\n",
    "\n",
    "    if len(studentsGate) != students:\n",
    "        print(f\"{BColors.ERROR}The length of the entrace array must be equal to the number of students.\"\n",
    "              f\"\\nPlease try again.{BColors.ENDC}\")\n",
    "\n",
    "    if np.max(studentsGate) > entrances:\n",
    "        print(f\"{BColors.ERROR}There are only {entrances} gates.\\nPlease try again.{BColors.ENDC}\")\n",
    "\n",
    "    if len(np.array(studentsGate)[np.array(studentsGate)<0]) or entrances < 0 or students < 0 or guards < 0:\n",
    "        print(f\"{BColors.ERROR}All inputs must be positive integers.\\nPlease try again.{BColors.ENDC}\")\n",
    "\n",
    "    else:\n",
    "        print(flowcheck(entrances, guards, studentsGate))\n",
    "        break"
   ]
  }
 ],
 "metadata": {
  "kernelspec": {
   "display_name": "Python 3 (ipykernel)",
   "language": "python",
   "name": "python3"
  },
  "language_info": {
   "codemirror_mode": {
    "name": "ipython",
    "version": 3
   },
   "file_extension": ".py",
   "mimetype": "text/x-python",
   "name": "python",
   "nbconvert_exporter": "python",
   "pygments_lexer": "ipython3",
   "version": "3.10.9"
  },
  "vscode": {
   "interpreter": {
    "hash": "773286f42bdafd8588749582ed653d25b280a530e585f5f155cb0082e5f8cdaa"
   }
  }
 },
 "nbformat": 4,
 "nbformat_minor": 2
}
