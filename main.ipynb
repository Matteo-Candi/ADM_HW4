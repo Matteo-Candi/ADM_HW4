{
 "cells": [
  {
   "cell_type": "markdown",
   "metadata": {
    "pycharm": {
     "name": "#%% md\n"
    }
   },
   "source": [
    "# **Homework 4 - Getting to know your customers**\n",
    "___"
   ]
  },
  {
   "cell_type": "markdown",
   "metadata": {
    "pycharm": {
     "name": "#%% md\n"
    }
   },
   "source": [
    "Importing packages"
   ]
  },
  {
   "cell_type": "code",
   "execution_count": null,
   "metadata": {
    "pycharm": {
     "name": "#%%\n"
    }
   },
   "outputs": [],
   "source": [
    "import pandas as pd\n",
    "import numpy as np"
   ]
  },
  {
   "cell_type": "markdown",
   "metadata": {
    "pycharm": {
     "name": "#%% md\n"
    }
   },
   "source": [
    "Cleaning the dataset"
   ]
  },
  {
   "cell_type": "code",
   "execution_count": null,
   "metadata": {
    "pycharm": {
     "name": "#%%\n"
    }
   },
   "outputs": [],
   "source": [
    "data = pd.read_csv('bank_transactions.csv')"
   ]
  },
  {
   "cell_type": "code",
   "execution_count": null,
   "metadata": {
    "pycharm": {
     "name": "#%%\n"
    }
   },
   "outputs": [],
   "source": [
    "# We use this function to convert TransactionTime in time\n",
    "def zeros(x):\n",
    "    l = len(x)\n",
    "    if l != 6:\n",
    "        x = '0' * (6-l) + x\n",
    "    return x"
   ]
  },
  {
   "cell_type": "code",
   "execution_count": null,
   "metadata": {
    "pycharm": {
     "name": "#%%\n"
    }
   },
   "outputs": [],
   "source": [
    "# We have about 7000 rows with missing values so we can just drop them\n",
    "data.dropna(inplace=True)\n",
    "\n",
    "# Convert in datetime this two columns\n",
    "data.CustomerDOB = pd.to_datetime(data.CustomerDOB)\n",
    "data.TransactionDate = pd.to_datetime(data.TransactionDate)\n",
    "\n",
    "# For TransactionTime we need to split the int in hours, minutes and seconds and convert it in datatime\n",
    "data.TransactionTime = list(map(str,data.TransactionTime))\n",
    "data.TransactionTime = list(map(zeros,data.TransactionTime))\n",
    "data.TransactionTime = pd.to_datetime(data.TransactionTime.apply(lambda x: f'{x[:2]}:{x[2:4]}:{x[4:]}'), format='%H:%M:%S').dt.time\n",
    "\n",
    "# Adjusting CustomerDOB bringing all the data after 2000 in the previous century and delating all the ones of the 1800\n",
    "data.loc[data.CustomerDOB.dt.year > 2000, 'CustomerDOB'] = data.loc[data.CustomerDOB.dt.year > 2000, 'CustomerDOB'] - pd.DateOffset(years = 100)\n",
    "data.drop(data[data.CustomerDOB.dt.year == 1800].index, axis=0, inplace=True)\n",
    "\n",
    "# Converting TransactionAmount in integer\n",
    "data['TransactionAmount (INR)'] = data['TransactionAmount (INR)'].astype(int)\n",
    "\n",
    "# Saving the new dataset in pickle format\n",
    "data.to_pickle('clear_dataset.pkl')"
   ]
  },
  {
   "cell_type": "markdown",
   "metadata": {
    "pycharm": {
     "name": "#%% md\n"
    }
   },
   "source": [
    "___\n",
    "### **1. Finding Similar Costumers**"
   ]
  },
  {
   "cell_type": "markdown",
   "metadata": {
    "pycharm": {
     "name": "#%% md\n"
    }
   },
   "source": [
    "#### 1.1 Set up the data"
   ]
  },
  {
   "cell_type": "code",
   "execution_count": null,
   "metadata": {
    "pycharm": {
     "name": "#%%\n"
    }
   },
   "outputs": [],
   "source": []
  },
  {
   "cell_type": "markdown",
   "metadata": {
    "pycharm": {
     "name": "#%% md\n"
    }
   },
   "source": [
    "#### 1.2 Fingerprint hashing"
   ]
  },
  {
   "cell_type": "code",
   "execution_count": null,
   "metadata": {
    "pycharm": {
     "name": "#%%\n"
    }
   },
   "outputs": [],
   "source": []
  },
  {
   "cell_type": "markdown",
   "metadata": {
    "pycharm": {
     "name": "#%% md\n"
    }
   },
   "source": [
    "#### 1.3 Locality Sensitive Hashing"
   ]
  },
  {
   "cell_type": "code",
   "execution_count": null,
   "metadata": {
    "pycharm": {
     "name": "#%%\n"
    }
   },
   "outputs": [],
   "source": []
  },
  {
   "cell_type": "markdown",
   "metadata": {
    "pycharm": {
     "name": "#%% md\n"
    }
   },
   "source": [
    "___\n",
    "### **2. Grouping customers together!**"
   ]
  },
  {
   "cell_type": "markdown",
   "metadata": {
    "pycharm": {
     "name": "#%% md\n"
    }
   },
   "source": [
    "#### 2.1 Getting your data + feature engineering"
   ]
  },
  {
   "cell_type": "code",
   "execution_count": null,
   "metadata": {
    "pycharm": {
     "name": "#%%\n"
    }
   },
   "outputs": [],
   "source": []
  },
  {
   "cell_type": "markdown",
   "metadata": {
    "pycharm": {
     "name": "#%% md\n"
    }
   },
   "source": [
    "#### 2.2 Choose your features (variables)!"
   ]
  },
  {
   "cell_type": "code",
   "execution_count": null,
   "metadata": {
    "pycharm": {
     "name": "#%%\n"
    }
   },
   "outputs": [],
   "source": []
  },
  {
   "cell_type": "markdown",
   "metadata": {
    "pycharm": {
     "name": "#%% md\n"
    }
   },
   "source": [
    "#### 2.3 Clustering!"
   ]
  },
  {
   "cell_type": "code",
   "execution_count": null,
   "metadata": {
    "pycharm": {
     "name": "#%%\n"
    }
   },
   "outputs": [],
   "source": []
  },
  {
   "cell_type": "markdown",
   "metadata": {
    "pycharm": {
     "name": "#%% md\n"
    }
   },
   "source": [
    "#### 2.4 Analysing your results!"
   ]
  },
  {
   "cell_type": "code",
   "execution_count": null,
   "metadata": {
    "pycharm": {
     "name": "#%%\n"
    }
   },
   "outputs": [],
   "source": []
  },
  {
   "cell_type": "markdown",
   "metadata": {
    "pycharm": {
     "name": "#%% md\n"
    }
   },
   "source": [
    "___\n",
    "### **Bonus**"
   ]
  },
  {
   "cell_type": "code",
   "execution_count": null,
   "metadata": {
    "pycharm": {
     "name": "#%%\n"
    }
   },
   "outputs": [],
   "source": []
  },
  {
   "cell_type": "markdown",
   "metadata": {
    "pycharm": {
     "name": "#%% md\n"
    }
   },
   "source": [
    "___\n",
    "### **Command Line Question** "
   ]
  },
  {
   "cell_type": "code",
   "execution_count": null,
   "metadata": {
    "pycharm": {
     "name": "#%%\n"
    }
   },
   "outputs": [],
   "source": []
  },
  {
   "cell_type": "markdown",
   "metadata": {
    "pycharm": {
     "name": "#%% md\n"
    }
   },
   "source": [
    "___\n",
    "### **Algorithmic Question**"
   ]
  },
  {
   "cell_type": "code",
   "execution_count": 1,
   "metadata": {
    "pycharm": {
     "name": "#%%\n"
    }
   },
   "outputs": [],
   "source": [
    "import numpy as np\n",
    "\n",
    "class BColors:\n",
    "    WARNING = '\\033[93m\\n[Warning]: '\n",
    "    ERROR = '\\033[91m\\n[Error]: '\n",
    "    ENDC = '\\033[0m'"
   ]
  },
  {
   "cell_type": "code",
   "execution_count": 4,
   "metadata": {
    "pycharm": {
     "name": "#%%\n"
    }
   },
   "outputs": [],
   "source": [
    "# A function that returns if the given inputs meet the rules of the problem or not.\n",
    "def flowcheck(entrances, guards, studentsGate):\n",
    "    # Having an array with the same size of the entrances which turns 1 for each door if open and 0 otherwise.\n",
    "    entranceState = np.zeros(entrances)\n",
    "    # A flag variable is defined to be raised in case of a change in the gates\n",
    "    flag = 0\n",
    "\n",
    "    for i, j in enumerate(studentsGate):\n",
    "        # Open the gate\n",
    "        entranceState[j-1] = 1\n",
    "        # Check if this gate is the same as the previous one\n",
    "        if flag != j:\n",
    "            # Check if the number of guards is greater than the number of opened doors.\n",
    "            if np.sum(entranceState) > guards:\n",
    "                return \"\\nNO\"\n",
    "            # If not, change the flag\n",
    "            flag = j\n",
    "\n",
    "        # Check if this door will be used in the future. If not, close the door and release the guard.\n",
    "        if j not in studentsGate[i+1:]:\n",
    "            entranceState[j - 1] = 0\n",
    "\n",
    "    return \"\\nYES\""
   ]
  },
  {
   "cell_type": "code",
   "execution_count": 5,
   "metadata": {
    "pycharm": {
     "name": "#%%\n"
    }
   },
   "outputs": [
    {
     "name": "stdout",
     "output_type": "stream",
     "text": [
      "\n",
      "Parameters:\n",
      "3 6 2\n",
      "\n",
      "Enter each students' gate:\n",
      "1 2 2 3 2 1\n",
      "\n",
      "NO\n"
     ]
    }
   ],
   "source": [
    "# Below we can enter the parameters to test the algorithm. Some input control mechanisms are implemented.\n",
    "for i in range(1):\n",
    "    try:\n",
    "        entrances, students, guards = [int(i) for i in input(\"\\nParameters:\\n\").split()]\n",
    "    except:\n",
    "        print(f\"{BColors.ERROR}The input parameters must be space seperated positive integers.\"\n",
    "              f\"\\nPlease try again.{BColors.ENDC}\")\n",
    "        continue\n",
    "\n",
    "    try:\n",
    "        studentsGate = [int(i) for i in input(\"\\nEnter each students' gate:\\n\").split(\" \")]\n",
    "    except:\n",
    "        print(f\"{BColors.ERROR}Students' gates must be written in an array of integers.\"\n",
    "              f\"\\nPlease try again.{BColors.ENDC}\")\n",
    "        continue\n",
    "\n",
    "    if len(studentsGate) != students:\n",
    "        print(f\"{BColors.ERROR}The length of the entrace array must be equal to the number of students.\"\n",
    "              f\"\\nPlease try again.{BColors.ENDC}\")\n",
    "\n",
    "    if np.max(studentsGate) > entrances:\n",
    "        print(f\"{BColors.ERROR}There are only {entrances} gates.\\nPlease try again.{BColors.ENDC}\")\n",
    "\n",
    "    if len(np.array(studentsGate)[np.array(studentsGate)<0]) or entrances < 0 or students < 0 or guards < 0:\n",
    "        print(f\"{BColors.ERROR}All inputs must be positive integers.\\nPlease try again.{BColors.ENDC}\")\n",
    "\n",
    "    else:\n",
    "        print(flowcheck(entrances, guards, studentsGate))\n",
    "        break"
   ]
  }
 ],
 "metadata": {
  "kernelspec": {
   "display_name": "Python 3 (ipykernel)",
   "language": "python",
   "name": "python3"
  },
  "language_info": {
   "codemirror_mode": {
    "name": "ipython",
    "version": 3
   },
   "file_extension": ".py",
   "mimetype": "text/x-python",
   "name": "python",
   "nbconvert_exporter": "python",
   "pygments_lexer": "ipython3",
   "version": "3.9.12"
  },
  "vscode": {
   "interpreter": {
    "hash": "773286f42bdafd8588749582ed653d25b280a530e585f5f155cb0082e5f8cdaa"
   }
  }
 },
 "nbformat": 4,
 "nbformat_minor": 2
}